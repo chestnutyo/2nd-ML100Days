{
 "cells": [
  {
   "cell_type": "markdown",
   "metadata": {},
   "source": [
    "## 練習時間\n",
    "#### 請寫一個函式用來計算 Mean Square Error\n",
    "$ MSE = \\frac{1}{n}\\sum_{i=1}^{n}{(Y_i - \\hat{Y}_i)^2} $\n",
    "\n",
    "### Hint: [如何取平方](https://googoodesign.gitbooks.io/-ezpython/unit-1.html)"
   ]
  },
  {
   "cell_type": "code",
   "execution_count": 1,
   "metadata": {},
   "outputs": [],
   "source": [
    "import numpy as np\n",
    "import matplotlib.pyplot as plt"
   ]
  },
  {
   "cell_type": "code",
   "execution_count": 2,
   "metadata": {},
   "outputs": [],
   "source": [
    "def mean_squared_error(y,yp):\n",
    "    \"\"\"\n",
    "    請完成這個 Function 後往下執行\n",
    "    \"\"\"\n",
    "    import math\n",
    "    mse = 1 / len(y) * sum((y-yp) ** 2)\n",
    "    \n",
    "    return mse\n",
    "\n",
    "def mean_absolute_error(y, yp):\n",
    "    \"\"\"\n",
    "    計算 MAE\n",
    "    Args:\n",
    "        - y: 實際值\n",
    "        - yp: 預測值\n",
    "    Return:\n",
    "        - mae: MAE\n",
    "    \"\"\"\n",
    "    mae = MAE = sum(abs(y - yp)) / len(y)\n",
    "    return mae"
   ]
  },
  {
   "cell_type": "code",
   "execution_count": 3,
   "metadata": {},
   "outputs": [
    {
     "data": {
      "image/png": "[encoded data removed]",
      "text/plain": [
       "<Figure size 432x288 with 1 Axes>"
      ]
     },
     "metadata": {
      "needs_background": "light"
     },
     "output_type": "display_data"
    }
   ],
   "source": [
    "w = 3\n",
    "b = 0.5\n",
    "\n",
    "x_lin = np.linspace(0, 100, 101)\n",
    "\n",
    "y = (x_lin + np.random.randn(101) * 5) * w + b\n",
    "\n",
    "plt.plot(x_lin, y, 'b.', label = 'data points')\n",
    "plt.title(\"Assume we have data points\")\n",
    "plt.legend(loc = 2)\n",
    "plt.show()"
   ]
  },
  {
   "cell_type": "code",
   "execution_count": 4,
   "metadata": {},
   "outputs": [
    {
     "data": {
      "image/png": "[encoded data removed]",
      "text/plain": [
       "<Figure size 432x288 with 1 Axes>"
      ]
     },
     "metadata": {
      "needs_background": "light"
     },
     "output_type": "display_data"
    }
   ],
   "source": [
    "y_hat = x_lin * w + b\n",
    "plt.plot(x_lin, y, 'b.', label = 'data')\n",
    "plt.plot(x_lin, y_hat, 'r-', label = 'prediction')\n",
    "plt.title(\"Assume we have data points (And the prediction)\")\n",
    "plt.legend(loc = 2)\n",
    "plt.show()"
   ]
  },
  {
   "cell_type": "code",
   "execution_count": 5,
   "metadata": {},
   "outputs": [
    {
     "name": "stdout",
     "output_type": "stream",
     "text": [
      "The Mean squared error is 239.231\n",
      "The Mean absolute error is 12.688\n"
     ]
    }
   ],
   "source": [
    "# 執行 Function, 確認有沒有正常執行\n",
    "MSE = mean_squared_error(y, y_hat)\n",
    "MAE = mean_absolute_error(y, y_hat)\n",
    "print(\"The Mean squared error is %.3f\" % (MSE))\n",
    "print(\"The Mean absolute error is %.3f\" % (MAE))"
   ]
  },
  {
   "cell_type": "markdown",
   "metadata": {},
   "source": [
    "\"\"\"\n",
    "作業1：\n",
    "\n",
    "請上 Kaggle, 在 Competitions 或 Dataset 中找一組競賽或資料並寫下：\n",
    "\n",
    "選擇資料庫為：\"1.6 million UK traffic accidents\"\n",
    "\n",
    "1. 你選的這組資料為何重要？\n",
    "\n",
    "Ans.世界各地，每個地方無時無刻都在發生交通事故，\n",
    "    若能經由過去的經驗，來了解在什麼樣的情況下，會有較高的交通事故發生率以及有較低的交通事故發生率，\n",
    "    (例如：發生時間、發生位置、路口個數、紅燈停留時間、是否有交通警察指揮...等)\n",
    "    比較相關資料後，即有機會有效地來降低交通事故發生率！\n",
    "    \n",
    "    而此資料為英國2005年至2014年(除了2008年)的統計資料，共高達一兩百萬筆資料，\n",
    "    若能有效分析其資料，找出交通事故發生率較高與較低的狀況，即有機會改善交通事故發生率，\n",
    "    例：在特定時間與地點，將所有路口同時紅燈時間拉長或是搭配交通警察指揮，將有機會有效降低該位置事故發生率。\n",
    "\n",
    "2. 資料從何而來 (tips: 譬如提供者是誰、以什麼方式蒐集)？\n",
    "\n",
    "Ans.提供者-英國政府警察(報告)，蒐集方式-人工登入資料庫。\n",
    "\n",
    "\n",
    "3. 蒐集而來的資料型態為何？\n",
    "\n",
    "Ans.結構化，表格方式呈現數據(.csv)\n",
    "    列：紀錄所有交通事故的狀況\n",
    "    欄：針對每個交通事故紀錄之地點、時間、事故車輛數、傷亡人數、嚴重程度、速限、環境狀況、其他外部因素...等。\n",
    "\n",
    "4. 這組資料想解決的問題如何評估\n",
    "    \n",
    "Ans.這筆資料可以整理為\n",
    "    INPUT：每個路口環境狀況；\n",
    "    OUTPUT：預測發生各種事故狀況之機率與狀況；\n",
    "    更進一步，來改善事故發生率預測較高的路口。\n",
    "\n",
    "\"\"\"\n"
   ]
  },
  {
   "cell_type": "markdown",
   "metadata": {},
   "source": [
    "\"\"\"\n",
    "作業2：\n",
    "\n",
    "想像你經營一個自由載客車隊，你希望能透過數據分析以提升業績，請你思考並描述你如何規劃整體的分析/解決方案：\n",
    "\n",
    "1. 核心問題為何 (tips：如何定義 「提升業績 & 你的假設」)\n",
    "\n",
    "Ans.目前整體車隊業績低落、營運不佳，可能在於車隊每個隊員走的路線或出現的時機皆不佳，或有其他因素導致此現象。\n",
    "\n",
    "2. 資料從何而來 (tips：哪些資料可能會對你想問的問題產生影響 & 資料如何蒐集)\n",
    "\n",
    "Ans.由內部：每個隊員開始記錄自己所開的路線、時間以及其載客狀況(時間點、客人人數、搭乘距離)，探討大家為何有業績差異問題。\n",
    "    由外部：目前有很多APP是否能找到每個乘客的習慣、由更大的車隊中取得相關資訊。\n",
    "\n",
    "3. 蒐集而來的資料型態為何\n",
    "\n",
    "Ans.分為兩個部分，一部分為跑的時間與路線所導致相關業績量；另一部分，追蹤每個區段乘客搭乘習慣(人數、里程...等)。\n",
    "\n",
    "4. 你要回答的問題，其如何評估 (tips：你的假設如何驗證)\n",
    "\n",
    "Ans.分析完後，能夠了解乘客搭乘熱門區段與搭乘時間點，能夠實際開幾遍平均來驗證是否能夠取得更高的業績。\n",
    "\n",
    "\"\"\""
   ]
  },
  {
   "cell_type": "code",
   "execution_count": null,
   "metadata": {},
   "outputs": [],
   "source": []
  }
 ],
 "metadata": {
  "anaconda-cloud": {},
  "kernelspec": {
   "display_name": "Python 3",
   "language": "python",
   "name": "python3"
  },
  "language_info": {
   "codemirror_mode": {
    "name": "ipython",
    "version": 3
   },
   "file_extension": ".py",
   "mimetype": "text/x-python",
   "name": "python",
   "nbconvert_exporter": "python",
   "pygments_lexer": "ipython3",
   "version": "3.7.3"
  }
 },
 "nbformat": 4,
 "nbformat_minor": 1
}
